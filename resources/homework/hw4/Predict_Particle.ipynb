{
 "cells": [
  {
   "cell_type": "markdown",
   "id": "beb6979f",
   "metadata": {},
   "source": [
    "<h1><center>Reconstructing HPGe Detector Waveform Energy</center></h1>"
   ]
  },
  {
   "cell_type": "markdown",
   "id": "973caa48",
   "metadata": {},
   "source": [
    "This notebook will guide you through problems 6 of HW4. Start out by reading the problem descriptions in the main homework assignment before you work through this notebook.\n",
    "\n",
    "We have three imports for this assignment. Please do not import any other packages."
   ]
  },
  {
   "cell_type": "code",
   "execution_count": null,
   "id": "da960cf7",
   "metadata": {},
   "outputs": [],
   "source": [
    "import numpy as np\n",
    "import pandas as pd\n",
    "from itertools import combinations"
   ]
  },
  {
   "cell_type": "markdown",
   "id": "2e20e604",
   "metadata": {},
   "source": [
    "<h2> Problem 6: Prediction Competition<h2>"
   ]
  },
  {
   "cell_type": "markdown",
   "id": "51a768fc",
   "metadata": {},
   "source": [
    "Your task is to modify the `predict` function given below, according to the rules given in the main homework assignment. Remember you can use up to three variables, and your design matrix can have up to five columns. We recommend determining your best prediction rule before implementing the `predict` function. \n"
   ]
  },
  {
   "cell_type": "code",
   "execution_count": null,
   "id": "0df80353",
   "metadata": {},
   "outputs": [],
   "source": [
    "# Use this cell (and add more as needed) to determine your best prediction rule. \n",
    "# Then implement the predict function below.\n",
    "\n"
   ]
  },
  {
   "cell_type": "code",
   "execution_count": null,
   "id": "2b8a3d8a",
   "metadata": {},
   "outputs": [],
   "source": [
    "def predict(row):\n",
    "    '''Function that returns the predicted energy for a given row of the waveform features\n",
    "    row will be a 1-d array of [Max_Amp, tDrift50, tDrift90, tDrift100, blnoise, tslope]\n",
    "    please change the return 0 to return predicted energy given these parameters\n",
    "    '''\n",
    "    return 0"
   ]
  },
  {
   "cell_type": "markdown",
   "id": "a3dae1d3",
   "metadata": {},
   "source": [
    "Don't modify the `calculate_MSE` function given below. This tests how well your predictions perform on a given dataset."
   ]
  },
  {
   "cell_type": "code",
   "execution_count": null,
   "id": "c149a346",
   "metadata": {},
   "outputs": [],
   "source": [
    "def calculate_MSE(df):\n",
    "    '''Compute MSE of the predictions corresponding to each row of the given dataframe'''\n",
    "    n = df.shape[0]\n",
    "    total_squared_error = 0\n",
    "    for i in np.arange(n):\n",
    "        predicted = predict(df.iloc[i].drop(\"Energy\"))\n",
    "        actual = df.iloc[i].get('Energy')\n",
    "        squared_error = (actual - predicted)**2\n",
    "        total_squared_error += squared_error\n",
    "    return total_squared_error/n"
   ]
  },
  {
   "cell_type": "markdown",
   "id": "25718c10",
   "metadata": {},
   "source": [
    "You can test out your predictions on the training dataset provided. We'll also test your predictions on a hidden test dataset."
   ]
  },
  {
   "cell_type": "code",
   "execution_count": null,
   "id": "40b6f900",
   "metadata": {
    "scrolled": true
   },
   "outputs": [],
   "source": [
    "waveforms = pd.read_csv('HPGeData.csv')"
   ]
  },
  {
   "cell_type": "code",
   "execution_count": null,
   "id": "c5a86211",
   "metadata": {},
   "outputs": [],
   "source": [
    "# An example prediction\n",
    "example_row = waveforms.iloc[0].drop(\"Energy\")\n",
    "predict(example_row)"
   ]
  },
  {
   "cell_type": "code",
   "execution_count": null,
   "id": "98fca549",
   "metadata": {},
   "outputs": [],
   "source": [
    "print(calculate_MSE(waveforms))"
   ]
  },
  {
   "cell_type": "markdown",
   "id": "a3b10d48",
   "metadata": {},
   "source": [
    "<h3> To Submit </h3>\n",
    "\n",
    "In the top left corner, in the File menu, select Download as Python (.py). \n",
    "\n",
    "You must save your file as `hw4code.py` for the Gradescope autograder to run. Then, upload this file to the assignment called Homework 4 Code on Gradescope. Problems 4b, 4c, and 5 will be autograded, so you don't need to turn in any written explanation for these questions."
   ]
  }
 ],
 "metadata": {
  "kernelspec": {
   "display_name": "Python 3 (ipykernel)",
   "language": "python",
   "name": "python3"
  },
  "language_info": {
   "codemirror_mode": {
    "name": "ipython",
    "version": 3
   },
   "file_extension": ".py",
   "mimetype": "text/x-python",
   "name": "python",
   "nbconvert_exporter": "python",
   "pygments_lexer": "ipython3",
   "version": "3.11.5"
  }
 },
 "nbformat": 4,
 "nbformat_minor": 5
}
